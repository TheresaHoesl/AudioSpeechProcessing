{
 "cells": [
  {
   "cell_type": "markdown",
   "id": "fd234dc7",
   "metadata": {},
   "source": [
    "# Assignment 2: Quantization and Speech Coding\n",
    "#### EQ2321 Speech and Audio Signal Processing\n",
    "\n",
    "Max. grade: 50"
   ]
  },
  {
   "cell_type": "markdown",
   "id": "ff47599f",
   "metadata": {},
   "source": [
    "# Introduction\n",
    "\n",
    "Throughout this assignment we will use the speech data in `data[\"speech8\"]` which is sampled at 8 kHz. `speech8` will be used both for tuning (training, optimizing) and evaluating the speech coders (evaluating on the training data is called closed test evaluation). Normally this is considered inappropriate (why?), but\n",
    "we accept it here for simplicity.\n",
    "You will frequently be asked to evaluate the SNR which is calculated like\n",
    "$SNR = 10 \\log 10 \\frac{\\sigma_x^2}{\\sigma_q^2}$, where $X(n)$ is input speech to the coder, and $q(n) =\n",
    "X(n) − \\hat{X}(n)$ is the quantization error, where $\\hat{X}(n)$ is the quantized speech.\n",
    "Thus, calculating the SNR amounts to estimating $\\sigma_x^2$, and $\\sigma_q^2$.\n",
    "Please note that the last part of the assignment may be the most time\n",
    "consuming. There you are asked to design a forward energy and filter adaptive\n",
    "DPCM coder and you are not given many instructions. Make sure you allocate\n",
    "enough time for this last part!"
   ]
  },
  {
   "cell_type": "markdown",
   "id": "746e6eae",
   "metadata": {},
   "source": [
    "## The Uniform Scalar Quantizer (4 pts)\n",
    "\n",
    "In this task we implement the simplest quantizer of all: the uniform scalar\n",
    "quantizer (USQ). USQs will be used frequently in this assignment.\n",
    "Encoding and transmission by USQ is sometimes called Pulse Code Modulation (PCM)."
   ]
  },
  {
   "cell_type": "code",
   "execution_count": 1,
   "id": "7b35dd73",
   "metadata": {},
   "outputs": [],
   "source": [
    "import pickle as pkl\n",
    "import numpy as np\n",
    "import matplotlib.pyplot as plt\n",
    "from scipy import signal\n",
    "\n",
    "def read_assignment_file(fname):\n",
    "    with open(fname,\"rb\") as f:\n",
    "        d=pkl.load(f)\n",
    "    return d\n",
    "\n",
    "assignment_file = \"assignment2.pkl\"\n",
    "data=read_assignment_file(assignment_file)\n",
    "\n",
    "import sounddevice as sd\n",
    "from scipy.ndimage import median_filter\n",
    "\n",
    "def play_wav(x,fs):\n",
    "    sd.play(x.astype(np.int16),fs)\n",
    "\n",
    "import scipy.signal as si\n",
    "from scipy.signal import firwin,filtfilt\n",
    "def lowpass(x,fc,fs=44100):\n",
    "    \"\"\" x is the signal, \n",
    "        fc is the cuttoff frequency expressed in Hz, must be between [0,fs/2]\n",
    "    \"\"\"\n",
    "    b = firwin(1024, fc,fs=fs)\n",
    "    y = filtfilt(b,1,x)\n",
    "    return y\n",
    "\n",
    "\n",
    "# the speech data is data[\"speech8\"]"
   ]
  },
  {
   "cell_type": "markdown",
   "id": "d0b5781f",
   "metadata": {},
   "source": [
    "### Question 1（2 pts)\n",
    "\n",
    "Implement a uniform scalar encoder:\n",
    "\n",
    "```python\n",
    "def sq_enc(xin, n_bits, xmax, m):\n",
    "    \"\"\"\n",
    "    xin is a vector with the original speech samples,\n",
    "    n_bits is the number of bits available to quantize one sample in the quantizer (i.e., the rate),\n",
    "    xmax and m define the range of the quantizer from m-xmax to m+xmax,\n",
    "       so that the width of each quantization interval is ∆ = 2 × xmax/L,\n",
    "           where L is the number of quantization intervals and corresponding reconstruction values.\n",
    "       m defines the mean (or offset) of the quantizer reconstruction levels.\n",
    "\n",
    "    The function should return the index of the chosen quantization level.\n",
    "    \"\"\"\n",
    "    return idx\n",
    "```\n",
    "\n",
    "Setting m = 0 defines a “midrise” quantizer, and m = $\\frac{\\Delta}{2}$ gives a \"midtread\" quantizer (see the course book sec. 7.2).\n",
    "\n",
    "\n",
    "Implement also the corresponding decoder function\n",
    "```python\n",
    "def sq_dec(idx, n_bits, xmax, m)\n",
    "    \"\"\"See sq_enc for the definition of the inputs.\n",
    "    outq is the vector with the quantized values for idx.\n",
    "    \"\"\"\n",
    "    \n",
    "    return outq\n",
    "```\n",
    "The USQ is a highly structured quantizer. The encoder can be imple-\n",
    "mented essentially by only a scalar division (no multiplications, compar-\n",
    "isons or loops are needed), making the computational complexity inde-\n",
    "pendent of the bitrate. Make sure your encoder has a computational\n",
    "complexity independent of the bitrate!\n"
   ]
  },
  {
   "cell_type": "code",
   "execution_count": 2,
   "id": "01a64b10",
   "metadata": {},
   "outputs": [],
   "source": [
    "def sq_enc(xin, n_bits, xmax, m):\n",
    "    L = 2 ** n_bits  # nr of quant intervals\n",
    "    delta = 2 * xmax / (L - 1)  # width of each quantization interval\n",
    "    idx = np.zeros(len(xin))\n",
    "    \n",
    "    # Clip values into the range\n",
    "    x_est = np.clip(xin, -xmax + m, xmax + m)\n",
    "    \n",
    "    if m == 0:  # Midrise\n",
    "        idx = np.round((x_est + xmax) / delta)\n",
    "    elif m == delta / 2:  # Midtread\n",
    "        idx = np.round(x_est / delta)\n",
    "    else:  # Midrise with optional offset\n",
    "        idx = np.round((x_est - (-xmax + m)) / delta)\n",
    "    \n",
    "    return idx.astype(int)\n",
    "\n",
    "def sq_dec(idx, n_bits, xmax, m):\n",
    "    L = 2 ** n_bits  # nr of quant intervals\n",
    "    delta = 2 * xmax / (L - 1)  # width of each quantization interval\n",
    "    outq = np.zeros(len(idx))\n",
    "    \n",
    "    if m == delta / 2:  # Midtread\n",
    "        outq = (idx-1) * delta\n",
    "    else:  # Midrise with optional offset\n",
    "        #outq = (2 * idx - 1) * delta / 2 + (-xmax + m)\n",
    "        outq = idx * delta - xmax +m\n",
    "    \n",
    "    return outq"
   ]
  },
  {
   "cell_type": "markdown",
   "id": "02cd1734",
   "metadata": {},
   "source": [
    "### Question 2 (2 pts)\n",
    "\n",
    "Run the encoder and decoder on a ramp signal `x=np.linspace(-6,6,1201)`. Use a `2-bit` quantizer with $x_{max} = 4$. \n",
    "\n",
    "Plot the quantizer output as a function of the input. \n",
    "\n",
    "Make sure the output levels are exactly where you expect them to be.\n",
    "\n",
    "Use a quantizer mean $m=0$. Do a similar plot with $m=1.5$."
   ]
  },
  {
   "cell_type": "code",
   "execution_count": 3,
   "id": "108a5879",
   "metadata": {},
   "outputs": [
    {
     "data": {
      "text/plain": [
       "(-4.0, 4.0)"
      ]
     },
     "execution_count": 3,
     "metadata": {},
     "output_type": "execute_result"
    },
    {
     "data": {
      "image/png": "[encoded data removed]",
      "text/plain": [
       "<Figure size 640x480 with 1 Axes>"
      ]
     },
     "metadata": {},
     "output_type": "display_data"
    }
   ],
   "source": [
    "x = np.linspace(-6,6,1201)\n",
    "\n",
    "y_0 = sq_enc(x, 2, 4, 0)\n",
    "x_0 = sq_dec(y_0, 2, 4, 0)\n",
    "\n",
    "y_midrise = sq_enc(x, 2, 4, 1.5)\n",
    "x_midrise = sq_dec(y_midrise, 2, 4, 1.5)\n",
    "\n",
    "y_midtreat = sq_enc(x, 2, 4, 4/3)\n",
    "x_midtreat = sq_dec(y_midrise, 2, 4, 4/3)\n",
    "\n",
    "plt.plot(x, x_0, x, x_midrise)\n",
    "plt.title('Midrise quantizer with offset m = 0 and m = 1.5')\n",
    "plt.xlabel('x')\n",
    "plt.ylabel('y')\n",
    "plt.xlim(-4, 4)\n",
    "plt.ylim(-4, 4)"
   ]
  },
  {
   "cell_type": "code",
   "execution_count": 4,
   "id": "68293955",
   "metadata": {},
   "outputs": [],
   "source": [
    "out = sq_enc(data['speech8'], 16, 8192, 0)\n",
    "est = sq_dec(out, 16, 8192, 0)\n",
    "\n",
    "from scipy.io.wavfile import write\n",
    "write(\"est.wav\", 8000, est.astype(np.int16))"
   ]
  },
  {
   "cell_type": "markdown",
   "id": "1db155b7",
   "metadata": {},
   "source": [
    "## Parametric Coding of Speech (23 pts)\n",
    "\n",
    "In this task we complete our design of the vocoder from assignment 1.\n",
    "Note that the speech used in this assignment is different from assignment 1 and if\n",
    "your vocoder analysis is not robust you may have to retune the analysis for this\n",
    "assignment.\n",
    "You are encouraged to use your vocoder from assignment 1. This means reuse the functions \"analysis\"..., \"synthesis\"...\n",
    "\n",
    "In practice, a speech coder must operate on a frame-by-frame basis, and transmit compressed data as quickly as possible in order to keep the delay short.\n",
    "However, you may have implemented your vocoder in an off-line fashion (the pitch estimator is easier to implement like that for example). \n"
   ]
  },
  {
   "cell_type": "markdown",
   "id": "e56a7742",
   "metadata": {},
   "source": [
    "### Quantizing the Frame Energy (8 pts)"
   ]
  },
  {
   "cell_type": "code",
   "execution_count": 5,
   "id": "23f93e6c",
   "metadata": {},
   "outputs": [],
   "source": [
    "from scipy.linalg import solve_toeplitz, toeplitz\n",
    "\n",
    "def xcorr(x,y,M=10):\n",
    "    \"\"\"\n",
    "    Perform Cross-Correlation on x and y\n",
    "    x    : 1st signal\n",
    "    y    : 2nd signal\n",
    "\n",
    "    returns\n",
    "    lags : lags of correlation\n",
    "    corr : coefficients of correlation\n",
    "    \"\"\"\n",
    "    corr = signal.correlate(x, y, mode=\"full\")\n",
    "    lags = signal.correlation_lags(len(x), len(y), mode=\"full\")\n",
    "    idx=(lags>=-M) & (lags<=M)\n",
    "    corr = corr[idx]\n",
    "    lags=lags[idx]\n",
    "    return lags[len(lags)//2:], corr[len(lags)//2:]\n",
    "\n",
    "\n",
    "def analysis(x, alen, ulen, M):\n",
    "    N = len(x)\n",
    "    naf = (N-alen+ulen)//ulen\n",
    "    n1 = 0\n",
    "    x_reshaped = x.reshape(-1)\n",
    "    \n",
    "    # Initialization\n",
    "    E = np.zeros((naf, 1))\n",
    "    ZC = np.zeros((naf, 1))\n",
    "    V = np.zeros((naf, 1))\n",
    "    A = np.zeros((naf, M+1)) # M is the prediction order.\n",
    "    # M+1 allows space for the leading 1\n",
    "    P = np.zeros((naf, 1))\n",
    "    \n",
    "    for n in range(naf):\n",
    "        # Inside loop\n",
    "        x_frame = x_reshaped[n1:n1+alen] * signal.windows.hann(alen)\n",
    "        E[n] = np.sum(np.abs(x_frame**2)) / alen\n",
    "        zc_curr = 0\n",
    "        for i in range(1,alen):\n",
    "            if (x_frame[i]*x_frame[i-1]) < 0:\n",
    "                zc_curr += 1\n",
    "        ZC[n] =  zc_curr / alen # The normalized number of zero crossings\n",
    "\n",
    "        lags, r = xcorr(x_frame, x_frame, M)\n",
    "        a_row = np.concatenate([np.ones((1)), solve_toeplitz(r[:-1], -r[1:])])\n",
    "        A[n,:] = a_row # Make sure the polynomial coefficients are in a row vector\n",
    "\n",
    "        lags, r_new = xcorr(x_frame, x_frame, M=(alen-1)) # finding the autocorrelations for the whole analysis frame\n",
    "\n",
    "        r_peaks, _ = signal.find_peaks(r_new)\n",
    "        index = np.argmax(r_new[r_peaks])\n",
    "        P[n] = r_peaks[index]\n",
    "        \n",
    "        n1 += ulen\n",
    "\n",
    "    for n in range(naf):\n",
    "        thresh = np.average(ZC)\n",
    "        avg_energy = np.average(E)\n",
    "        if ZC[n] > thresh and E[n] < 1.5*avg_energy: # product of high zero crossing and low energy is considered to be unvoiced\n",
    "            V[n] = 0\n",
    "        else:\n",
    "            V[n] = 1\n",
    "        # V[n] =  1 if ZC[n] > thresh else 0 # Equal to 1 if voiced, 0 if unvoiced.\n",
    "        \n",
    "    return E, ZC, V, A, P\n",
    "   \n",
    "\n",
    "def synthesis(E, ZC, V, A, P, ulen):\n",
    "    # We have included all the estimated parameters as input arguments but here we only use A!\n",
    "    n_frames = A.shape[0] # Assuming filter coefficients are stored row-wise\n",
    "    \n",
    "    # Create noise excitation:\n",
    "    # nexc = []\n",
    "    n1 = 0\n",
    "    Z = np.array([])\n",
    "    s = np.zeros((n_frames*ulen))\n",
    "    \n",
    "    cnt = 0\n",
    "    for n in range(0, n_frames):\n",
    "        # frame wise noise  \n",
    "        nexc = []\n",
    "        for f in range(ulen):\n",
    "            np.random.seed(f+np.random.randint(1))\n",
    "            rand_noise = np.random.normal(0,2)\n",
    "            nexc.append(rand_noise)\n",
    "        # Filter the excitation through the production (vocal tract) filter:      \n",
    "        # Low pass filter\n",
    "        if V[n] == 0: #unvoiced\n",
    "            if Z.shape[0] == 0: # 1st iteration\n",
    "                s[n1:n1+ulen] = signal.lfilter(np.array([1]), A[n,:], nexc)\n",
    "                Z = signal.lfiltic(np.array([1]), A[n,:], s[n1:n1+ulen], x=nexc)\n",
    "            else:\n",
    "                s[n1:n1+ulen], Z = signal.lfilter(np.array([1]), A[n,:], nexc, zi=Z)\n",
    "        else: #voiced\n",
    "            if Z.shape[0] == 0: # 1st iteration\n",
    "                s[n1:n1+ulen] = signal.lfilter(np.array([1]), A[n,:], nexc)\n",
    "                Z = signal.lfiltic(np.array([1]), A[n,:], s[n1:n1+ulen], x=nexc)\n",
    "            else:\n",
    "                cp = P[n][0]\n",
    "                pexc = np.zeros(n_frames*ulen)\n",
    "                pexc[::int(cp)] = 1\n",
    "                s[n1:n1+ulen], Z = signal.lfilter(np.array([1]), A[n,:], pexc[n1:n1+ulen], zi=Z)\n",
    "        \n",
    "        # normalizing wrt energy\n",
    "        s_frame = s[n1:n1+ulen]\n",
    "        frame_energy = np.sum(s_frame**2) / len(s_frame)\n",
    "        factor = 1\n",
    "        if frame_energy != 0:\n",
    "            factor = E[n]/frame_energy\n",
    "        \n",
    "        s[n1:n1+ulen] = np.sqrt(factor)*s_frame\n",
    "\n",
    "        n1 += ulen\n",
    "    return s\n",
    "\n",
    "\n",
    "energy, zero_crossing, voiced, coeffs, pitch = analysis(data['speech8'], 256, 32, 10)\n",
    "s = synthesis(energy, zero_crossing, voiced, coeffs, pitch, 32)"
   ]
  },
  {
   "cell_type": "markdown",
   "id": "50337a90",
   "metadata": {},
   "source": [
    "#### Question 1 (1 pts)\n",
    "\n",
    "Provide a plot of the histogram of the energy parameter.\n",
    "Indicate in the plot the range of the quantizer, i.e., mark the outer boundaries $m\\pm xmax$ (also mark m).\n",
    "Note that the pdf has a non-zero mean."
   ]
  },
  {
   "cell_type": "code",
   "execution_count": 6,
   "id": "2298b172",
   "metadata": {},
   "outputs": [
    {
     "data": {
      "image/png": "[encoded data removed]",
      "text/plain": [
       "<Figure size 640x480 with 1 Axes>"
      ]
     },
     "metadata": {},
     "output_type": "display_data"
    }
   ],
   "source": [
    "plt.hist(energy)\n",
    "xmax = 0.4*10**7\n",
    "m = 0.2*10**7\n",
    "vertical_line = [0.0, m, xmax]\n",
    "for line in vertical_line:\n",
    "    plt.axvline(x = line, color = 'r')\n",
    "plt.show()"
   ]
  },
  {
   "cell_type": "markdown",
   "id": "1fdbbde4",
   "metadata": {},
   "source": [
    "#### Question 2 (2 pts)\n",
    "\n",
    "Run the vocoder with a uniform scalar energy quantizer according to the design above.\n",
    "Find the rate at which you cannot hear the quantization distortion."
   ]
  },
  {
   "cell_type": "code",
   "execution_count": 7,
   "id": "2f1ef4cd",
   "metadata": {},
   "outputs": [],
   "source": [
    "# change nr of bits\n",
    "play_wav(s, 8000)\n",
    "\n",
    "ulen = 32\n",
    "energy_idx = sq_enc(energy, 6, xmax, m)\n",
    "quant_energy = sq_dec(energy_idx, 6, xmax, m)\n",
    "s_e = synthesis(quant_energy, zero_crossing, voiced, coeffs, pitch, ulen)\n",
    "\n",
    "from scipy.io.wavfile import write\n",
    "write(\"est.wav\", 8000, s_e.astype(np.int16))\n",
    "\n",
    "# rate is 6 bits\n"
   ]
  },
  {
   "cell_type": "markdown",
   "id": "dd16c88a",
   "metadata": {},
   "source": [
    "#### Question 3 (1 pts)\n",
    "\n",
    "Take the logarithm of the energy parameter prior to quantization (does not matter which base).\n",
    "Provide a plot of the histogram of the energy parameter in the log-domain.\n",
    "Indicate the range of this quantizer as above."
   ]
  },
  {
   "cell_type": "code",
   "execution_count": 8,
   "id": "5a74f045",
   "metadata": {},
   "outputs": [
    {
     "data": {
      "image/png": "[encoded data removed]",
      "text/plain": [
       "<Figure size 640x480 with 1 Axes>"
      ]
     },
     "metadata": {},
     "output_type": "display_data"
    }
   ],
   "source": [
    "log_energy = np.log10(energy)\n",
    "plt.hist(log_energy)\n",
    "\n",
    "# finding mean\n",
    "m = np.mean(log_energy)\n",
    "xmax = m+3\n",
    "\n",
    "vertical_line = [m-3, m, m+3]\n",
    "for line in vertical_line:\n",
    "    plt.axvline(x = line, color = 'r')\n",
    "plt.show()"
   ]
  },
  {
   "cell_type": "markdown",
   "id": "e9f3124d",
   "metadata": {},
   "source": [
    "#### Question 4 (2 pts)\n",
    "\n",
    "Run the vocoder with a uniform scalar log-energy quantizer according to the design above.\n",
    "Find the rate at which you cannot hear the quantization distortion.\n",
    "Make sure to modify the decoder accordingly (apply the exp function to the quantized log-energy)."
   ]
  },
  {
   "cell_type": "code",
   "execution_count": 9,
   "id": "b04c9e1a",
   "metadata": {},
   "outputs": [],
   "source": [
    "play_wav(s, 8000)\n",
    "\n",
    "ulen = 32\n",
    "energy_log_idx = sq_enc(log_energy, 4, xmax, m)\n",
    "quant_log_energy = 10**sq_dec(energy_log_idx, 4, xmax, m)\n",
    "s_log_e = synthesis(quant_log_energy, zero_crossing, voiced, coeffs, pitch, ulen)\n",
    "\n",
    "from scipy.io.wavfile import write\n",
    "write(\"est.wav\", 8000, s_log_e.astype(np.int16))\n",
    "\n",
    "# rate is 4"
   ]
  },
  {
   "cell_type": "markdown",
   "id": "e7129de5",
   "metadata": {},
   "source": [
    "#### Question 5 (2 pts)\n",
    "\n",
    "Which is better: energy quantization in linear or log domain?"
   ]
  },
  {
   "cell_type": "markdown",
   "id": "47f959e7",
   "metadata": {},
   "source": [
    "Parametric Coding of Speech: In this case, logarithmic domain quantization is preferred. Logarithmic quantization allows for a more uniform representation of energy levels across the dynamic range. In linear cases, many values are close to 0.1 * 10^7, making it hard to select the right uniform scaler quantization. In the logarithm domain the energy levels have a wider distribution, so the uniform scaler quantization introduces an error that is significantly lower than what would occur in the linear domain."
   ]
  },
  {
   "cell_type": "markdown",
   "id": "747d0e3d",
   "metadata": {},
   "source": [
    "### Quantizing the Pitch and Voiced/Unvoiced Decision (2 pts)"
   ]
  },
  {
   "cell_type": "markdown",
   "id": "51252915",
   "metadata": {},
   "source": [
    "#### Question 1 (2 pts)\n",
    "\n",
    "Come up with an efficient way to encode the pitch and voiced/unvoiced decision."
   ]
  },
  {
   "cell_type": "code",
   "execution_count": 10,
   "id": "4d1cff82",
   "metadata": {},
   "outputs": [],
   "source": [
    "def encodePitch(V, P, nr_bits):\n",
    "    quant_P = np.zeros(len(V))\n",
    "    \n",
    "    #find falling and raising edges\n",
    "    raising = []\n",
    "    falling = []\n",
    "    \n",
    "    if V[0] == 1:\n",
    "        raising.append(0)\n",
    "    for n in range(len(V)-1):\n",
    "        if V[n] == 1 and V[n+1] == 0:\n",
    "            falling.append(n+1)\n",
    "        if V[n] == 0 and V[n+1] == 1:\n",
    "            raising.append(n+1)\n",
    "    if len(raising) > len(falling):\n",
    "        falling.append(len(V)-1)\n",
    "        \n",
    "    # encode pitch\n",
    "    for n in range(len(raising)):\n",
    "        section = P[raising[n]:falling[n]]\n",
    "        m = np.mean(section)\n",
    "        xmax = max(section)\n",
    "        quant_P[raising[n]:falling[n]] = np.squeeze(sq_dec(sq_enc(section, nr_bits, xmax, m), nr_bits, xmax, m))\n",
    "        \n",
    "    return quant_P.reshape(-1, 1)\n",
    "    \n",
    "quant_pitch = encodePitch(voiced, pitch, 5)\n",
    "\n",
    "s_p = synthesis(energy, zero_crossing, voiced, coeffs, quant_pitch, 32)\n",
    "from scipy.io.wavfile import write\n",
    "write(\"est.wav\", 8000, s_p.astype(np.int16))"
   ]
  },
  {
   "cell_type": "markdown",
   "id": "85363858",
   "metadata": {},
   "source": [
    "### Quantizing the LP parameters (4 pts)"
   ]
  },
  {
   "cell_type": "markdown",
   "id": "b53e513a",
   "metadata": {},
   "source": [
    "#### Question 1 (4 pts)\n",
    "\n",
    "For the quantization of LP parameters, we will use a vector quantizer (VQ).\n",
    "You do not need to optimize (train) the VQs; that has been done for you, and\n",
    "the codebooks can be found in the given data 'lsfCB1' and 'lsfCB2' in\n",
    "the file assignment2.pkl\n",
    "The codebooks constitute a multistage VQ. \n",
    "`lsfCB1` is a 10 bit VQ optimized on 10 dimensional LSF vectors. \n",
    "`lsfCB2` is a 10 bit second stage residual codebook.\n",
    "You extract these codebooks by calling data['lsfCB1'], data['lsfCB2']\n",
    "\n",
    "What you need to do is to program an encoding function and a corresponding decoding function for a multistage VQ. \n",
    "A suitable calling syntax for these functions can be\n",
    "\n",
    "```python\n",
    "def encodefilter(A, cb1, cb2):\n",
    "    return codeA\n",
    "```\n",
    "\n",
    "```python\n",
    "def decodefilter(codeA, cb1, cb2):\n",
    "    return Aq\n",
    "```\n",
    "\n",
    "Here A is a matrix with filter coefficients stored row-wise, and codeA is a two-column matrix with the corresponding code indices, stored row-wise.\n",
    "\n",
    "Notes:\n",
    "\n",
    "1. To convert between polynomial (a-) coefficients and LSFs see `poly2lsf` and `lsf2poly`. You migh require toolboxes such as https://pyspectrum.readthedocs.io/en/latest/install.html\n",
    "\n",
    "2. `poly2lsf` requires the polynomial coefficients to correspond to a minimum phase whitening filter. \n",
    "This is guaranteed by the autocorrelation LP analysis.\n",
    "`lsf2poly` requires that the LSFs correspond to a minimum phase whitening filter.\n",
    "The multistage VQ can output LSFs that do not satisfy this.\n",
    "As a precaution simply sort the LSFs prior to calling `lsf2poly`.\n",
    "Also check so they are between 0 and $\\pi$."
   ]
  },
  {
   "cell_type": "code",
   "execution_count": 11,
   "id": "d2b05f7a",
   "metadata": {},
   "outputs": [],
   "source": [
    "import spectrum as spec\n",
    "\n",
    "cb1 = data['lsfCB1']\n",
    "cb2 = data['lsfCB2']\n",
    "\n",
    "# make sure they are in range\n",
    "for n in range(len(cb1)):\n",
    "    for i in range(len(cb1[n])):\n",
    "        if cb1[n][i] > np.pi:\n",
    "            cb1[n][i] = np.pi\n",
    "        if cb1[n][i] < 0:\n",
    "            cb1[n][i] = 0\n",
    "        if cb2[n][i] > np.pi:\n",
    "            cb2[n][i] = np.pi\n",
    "        if cb2[n][i] < 0:\n",
    "            cb2[n][i] = 0\n",
    "\n",
    "\n",
    "\n",
    "def encodefilter(A):\n",
    "    # convert to lsf\n",
    "    A_poly = []\n",
    "    for i in range(len(A)):\n",
    "        A_poly.append(spec.poly2lsf(A[i]))\n",
    "    firstStage = []\n",
    "    eukl = []\n",
    "    i_first=[]\n",
    "    j_second=[]\n",
    "    # First stage encoding\n",
    "    for n in range(len(A)):\n",
    "        for i in range(len(cb1)):\n",
    "            eukl.append(np.linalg.norm(A_poly[n] - cb1[i]))\n",
    "        i_first.append(np.argmin(eukl))\n",
    "        firstStage.append(cb1[i_first[n]])\n",
    "        eukl=[]\n",
    "        \n",
    "    \n",
    "    # Subtract the first stage from A\n",
    "    res=[]\n",
    "    for i in range(len(A_poly)):\n",
    "        res.append(A_poly[i] - firstStage[i])\n",
    "    \n",
    "    # Second stage encoding\n",
    "    secondStage = []\n",
    "    for n in range(len(res)):\n",
    "        for i in range(len(cb2)):\n",
    "            eukl.append(np.linalg.norm(res[n]-cb2[i]))\n",
    "        j_second.append(np.argmin(eukl))\n",
    "        secondStage.append(cb2[j_second[n]])\n",
    "        eukl=[]\n",
    "    \n",
    "    codeA = i_first + j_second\n",
    "    \n",
    "    return codeA\n",
    "\n",
    "def decodefilter(codeA):\n",
    "    \n",
    "    i_first = codeA[0:len(codeA)//2]\n",
    "    j_second = codeA[len(codeA)//2:len(codeA)]\n",
    "    # Initialize decoded filter coefficients array\n",
    "    dec_A = []\n",
    "    rec_A = []\n",
    "    # Inverse the process of encoding\n",
    "    for n in range(len(codeA)//2):\n",
    "        # Reconstruct the second stage\n",
    "        rec_second_stage = np.array(cb2[j_second[n]])\n",
    "\n",
    "        # Reconstruct the first stage\n",
    "        rec_first_stage = rec_second_stage + np.array(cb1[i_first[n]])\n",
    "\n",
    "        # Append the reconstructed filter coefficients to the decoded array\n",
    "        rec_A.append(rec_first_stage)\n",
    "        \n",
    "        \n",
    "    for i in range(len(rec_A)):\n",
    "            dec_A.append(spec.lsf2poly(rec_A[i]))\n",
    "            \n",
    "    return np.array(dec_A)\n",
    "\n",
    "\n",
    "codeA = encodefilter(coeffs)\n",
    "dec_A = decodefilter(codeA)"
   ]
  },
  {
   "cell_type": "markdown",
   "id": "a1d0394c",
   "metadata": {},
   "source": [
    "### Optimizing the Bit Allocation (9 pts)\n",
    "\n",
    "Here you experiment a little with the number of bits to use for each parameter.\n",
    "Since you are provided with the LSF codebooks, you cannot experiment with the number of bits spent on LP parameter quantization.\n",
    "LP quantization contributes a lot to the total number of bits, and the choice of LSF codebook size\n",
    "vs. performance is crucial in vocoder design, but here we keep the LSF codebook\n",
    "size fixed.\n",
    "Find a bit allocation (i.e. the number of bits to use in each quantizer) for the energy, pitch, voiced/unvoiced quantizers, such that the quality is the same as when these parameters are unquantized (the effect of the LP parameter quantization is always present)."
   ]
  },
  {
   "cell_type": "markdown",
   "id": "c162165f",
   "metadata": {},
   "source": [
    "#### Question 1 (2 pts)\n",
    "\n",
    "Evaluate the SNR for your design above."
   ]
  },
  {
   "cell_type": "code",
   "execution_count": 12,
   "id": "f63d27a2",
   "metadata": {},
   "outputs": [
    {
     "name": "stdout",
     "output_type": "stream",
     "text": [
      "-0.2979393681889201\n"
     ]
    }
   ],
   "source": [
    "original = synthesis(energy, zero_crossing, voiced, coeffs, pitch, 32)\n",
    "\n",
    "# quant_log_energy: 4 bits, quant_pitch: 5 bits\n",
    "quant_log_energy = 10**sq_dec(sq_enc(log_energy, 8, xmax, m), 8, xmax, m)\n",
    "quant_pitch = encodePitch(voiced, pitch, 8)\n",
    "\n",
    "quant = synthesis(quant_log_energy, zero_crossing, voiced, dec_A, quant_pitch, 32)\n",
    "mse = np.mean((original - quant)**2)\n",
    "\n",
    "# (SNR) in dB\n",
    "signal_power = np.mean(original**2)\n",
    "noise_power = mse\n",
    "snr_db = 10*np.log10(signal_power/noise_power)\n",
    "print(snr_db)"
   ]
  },
  {
   "cell_type": "markdown",
   "id": "4da31ff1",
   "metadata": {},
   "source": [
    "#### Question 2 (3 pts)\n",
    "\n",
    "What number of bits do you suggest for the pitch? For the energy? For the\n",
    "voiced/unvoiced decision?"
   ]
  },
  {
   "cell_type": "markdown",
   "id": "13d7db89",
   "metadata": {},
   "source": [
    "for the voiced/unvoiced decision one bit is enough\n",
    "we should spend more bits on the pitch, because the pitch frequency compared to energy is more crucial for understanding the content of the speech\n",
    "In the example above we saw that we can achieve a snr of -0.29 dB with 8 bits for energy and 8 for pitch. However, the output of the synthesis sounds equally well to our ears with only 4 bits for energy and 5 for pitch. The SNR in this case is -2.7dB.\n"
   ]
  },
  {
   "cell_type": "markdown",
   "id": "b6d9676d",
   "metadata": {},
   "source": [
    "#### Question 3 (2 pts)\n",
    "\n",
    "What is the rate in bits per sample of your vocoder with the bit allocation\n",
    "suggested above? In bits per second?"
   ]
  },
  {
   "cell_type": "markdown",
   "id": "0db9ff28",
   "metadata": {},
   "source": [
    "In bits per sample: 4 bits for energy, 5 for pitch, one bit for the voiced/unvoiced decision (we could reduce that be using pitch == 0 as decision for voiced/unvoiced) and the 20 bits for the LP parameters.\n",
    "That makes 30/256 bits/sample and for fs = 8000 Hz: 8000*30/256 bits/second = 0.937 kbits/second"
   ]
  },
  {
   "cell_type": "markdown",
   "id": "19c51110",
   "metadata": {},
   "source": [
    "#### Question 4 (2 pts)\n",
    "\n",
    "Does it make sense to evaluate SNR here? Why or why not?"
   ]
  },
  {
   "cell_type": "markdown",
   "id": "7274942e",
   "metadata": {},
   "source": [
    "Calculating SNR after quantization helps you evaluate how well the quantized signal preserves the original signal quality. However, as seen in our case, it may not fully capture subjective aspects of speech quality. We could not detect any difference from 16 bits spend on energy and pitch vs 9 bits. The SNR droped from -0.29 to -2.7dB."
   ]
  },
  {
   "cell_type": "markdown",
   "id": "3c1183f2",
   "metadata": {},
   "source": [
    "## Speech Waveform Quantization (10 pts)"
   ]
  },
  {
   "cell_type": "markdown",
   "id": "6102bf97",
   "metadata": {},
   "source": [
    "#### Uniform Scalar Quantization of Speech\n",
    "\n",
    "We will in the following design our quantizers using $x_{max} = \\sigma_Xk$ , where $\\sigma_X$\n",
    "is the variance of speech and k is an experimentally tuned parameter (here it is tuned to maximize SNR). \n",
    "\n",
    "`k` is rate dependent and the SNR optimal `k` for rates 1 to 16 are\n",
    "```python\n",
    "l=[0.95, 2.1, ?, 4.95, 6.3, 7.65, 8.85, 9.95, 10.6, 11.0, 11.1, 11.2, 11.15, 11.2,\n",
    "11.15, 11.15]\n",
    "```\n",
    "\n",
    "The optimal (in terms of SNR) value for $R = 3$ is to be found experimentally.\n",
    "Run the quantizer with different values of k, and measure the SNR, to find the optimal choice."
   ]
  },
  {
   "cell_type": "markdown",
   "id": "e1bee383",
   "metadata": {},
   "source": [
    "##### Question 1 (2 pts)\n",
    "\n",
    "Evaluate the optimal `k` for $R = 3$."
   ]
  },
  {
   "cell_type": "code",
   "execution_count": 13,
   "id": "469a4e7a",
   "metadata": {},
   "outputs": [
    {
     "name": "stdout",
     "output_type": "stream",
     "text": [
      "3.0327272727272727\n"
     ]
    }
   ],
   "source": [
    "k_values = np.linspace(2.1, 4.95, 56) # the value for the optimal SNR will be in between 2.1 and 4.95\n",
    "\n",
    "std_signal = np.sqrt(np.var(data['speech8'])) # variance of the speech signal \n",
    "\n",
    "# list to store x_max values \n",
    "x_max_values = [std_signal * k for k in k_values]\n",
    "\n",
    "snrs = []\n",
    "for i in range(len(x_max_values)):\n",
    "    # estimated signal\n",
    "    x_hat = sq_dec(sq_enc(data['speech8'], 3, x_max_values[i], 0), 3, x_max_values[i], 0)\n",
    "    # calculate snr\n",
    "    mse = np.mean((data['speech8']-x_hat)**2)\n",
    "    snr = std_signal**2/mse\n",
    "    snrs.append(snr)\n",
    "#find optimal\n",
    "k_opt = k_values[np.argmax(snrs)]\n",
    "\n",
    "print(k_opt)"
   ]
  },
  {
   "cell_type": "markdown",
   "id": "2584a1f2",
   "metadata": {},
   "source": [
    "##### Question 2 (2 pts)\n",
    "\n",
    "Run the quantizer at rates [16, 15, 14, . . ., 2, 1], and evaluate the SNR\n",
    "for each rate.\n",
    "Provide a plot of the SNR as a function of rate."
   ]
  },
  {
   "cell_type": "code",
   "execution_count": 14,
   "id": "54ea24da",
   "metadata": {},
   "outputs": [
    {
     "data": {
      "image/png": "[encoded data removed]",
      "text/plain": [
       "<Figure size 640x480 with 1 Axes>"
      ]
     },
     "metadata": {},
     "output_type": "display_data"
    }
   ],
   "source": [
    "r = [1, 2, 3, 4, 5, 6, 7, 8, 9, 10, 11, 12, 13, 14, 15, 16]\n",
    "k_list = [0.95, 2.1, 3.03, 4.95, 6.3, 7.65, 8.85, 9.95, 10.6, 11.0, 11.1, 11.2, 11.15, 11.2, 11.15, 11.15]\n",
    "x_max_values = [std_signal * k for k in k_list]\n",
    "\n",
    "\n",
    "snrs = []\n",
    "for i in range(len(x_max_values)):\n",
    "    # estimated signal\n",
    "    x_hat = sq_dec(sq_enc(data['speech8'], r[i], x_max_values[i], 0), r[i], x_max_values[i], 0)\n",
    "    # calculate snr\n",
    "    mse = np.mean((data['speech8']-x_hat)**2)\n",
    "    snr = 10*np.log10(std_signal**2/mse)\n",
    "    snrs.append(snr)\n",
    "\n",
    "\n",
    "plt.plot(r, snrs)\n",
    "plt.xlabel('Rate (r)')\n",
    "plt.ylabel('SNR (dB)')\n",
    "plt.title('SNR as a Function of Rate')\n",
    "plt.grid(True)\n",
    "plt.show()"
   ]
  },
  {
   "cell_type": "markdown",
   "id": "ac26739f",
   "metadata": {},
   "source": [
    "##### Question 3 (2 pts)\n",
    "\n",
    "Provide a graph of the theoretical SNR in the same plot as the experimental SNR plot.\n",
    "For the theoretical SNR, assume that the number of quantization levels is high, and that overload is negligible."
   ]
  },
  {
   "cell_type": "code",
   "execution_count": 15,
   "id": "ded71df1",
   "metadata": {},
   "outputs": [
    {
     "name": "stderr",
     "output_type": "stream",
     "text": [
      "No artists with labels found to put in legend.  Note that artists whose label start with an underscore are ignored when legend() is called with no argument.\n"
     ]
    },
    {
     "data": {
      "image/png": "[encoded data removed]",
      "text/plain": [
       "<Figure size 640x480 with 1 Axes>"
      ]
     },
     "metadata": {},
     "output_type": "display_data"
    }
   ],
   "source": [
    "# since in the theoretical there is no overload \n",
    "\n",
    "# Define the list to store the optimal k values for each rate\n",
    "snrs_theory = []\n",
    "\n",
    "# Iterate over rates from 1 to 16\n",
    "L = np.array([2 ** rates for rates in r]) # Calculate the number of quantization intervals for the current rate\n",
    "\n",
    "# calculate theoretical SNR\n",
    "for i in range(len(x_max_values)):\n",
    "    delta = 2 * x_max_values[i] / (L[i] - 1)  \n",
    "    var_q = delta ** 2 / 12\n",
    "    snrs_theory.append(10 * np.log10(std_signal ** 2 / var_q))\n",
    "\n",
    "# Plot experimental and theoretical SNR\n",
    "plt.plot(r, snrs, r, snrs_theory)\n",
    "plt.xlabel('Rate (r)')\n",
    "plt.ylabel('SNR (dB)')\n",
    "plt.title('SNR as a Function of Rate')\n",
    "plt.legend()  # Show legend to distinguish between theoretical and calculated SNR\n",
    "plt.grid(True)\n",
    "plt.show()"
   ]
  },
  {
   "cell_type": "markdown",
   "id": "0c39fac7",
   "metadata": {},
   "source": [
    "##### Question 4 (1 pts)\n",
    "\n",
    "At what rate can you not tell the difference between the original and the quantized signal?"
   ]
  },
  {
   "cell_type": "code",
   "execution_count": 16,
   "id": "08f62fd2",
   "metadata": {},
   "outputs": [],
   "source": [
    "#play_wav(data['speech8'], 8000)\n",
    "\n",
    "#i is rate\n",
    "i = 8\n",
    "x_hat = sq_dec(sq_enc(data['speech8'], r[i], x_max_values[i], 0), r[i], x_max_values[i], 0)\n",
    "play_wav(x_hat, 8000)"
   ]
  },
  {
   "cell_type": "markdown",
   "id": "2fa64556",
   "metadata": {},
   "source": [
    "We cannot tell the difference at rate 8."
   ]
  },
  {
   "cell_type": "markdown",
   "id": "d131ae13",
   "metadata": {},
   "source": [
    "##### Question 5 (1 pts)\n",
    "\n",
    "Listen to the quantization error signal, $q(n)$. \n",
    "How would you characterize $q(n)$ for a system operating at rate $R = 1$.\n",
    "Increase the rate (up to $R \\approx 12$) and describe how the character of $q(n)$ changes."
   ]
  },
  {
   "cell_type": "code",
   "execution_count": 17,
   "id": "f104c8aa",
   "metadata": {},
   "outputs": [],
   "source": [
    "i = 11\n",
    "x_hat = sq_dec(sq_enc(data['speech8'], r[i], x_max_values[i], 0), r[i], x_max_values[i], 0)\n",
    "q = data['speech8'] - x_hat\n",
    "\n",
    "play_wav(q, 8000)"
   ]
  },
  {
   "cell_type": "markdown",
   "id": "73395971",
   "metadata": {},
   "source": [
    "For r = 1 it is mostly noise but one can actually hear the voices and understand some parts.\n",
    "For r = 12 one cannot hear anything because the residual is very very small."
   ]
  },
  {
   "cell_type": "markdown",
   "id": "29c90e0c",
   "metadata": {},
   "source": [
    "##### Question 6 (OPTIONAL 2 pts)\n",
    "\n",
    "Is it advantageous to have a reconstruction level in the origin for low rates?\n",
    "Compare (by listening) midrise and midtread quantizers at low bit rates."
   ]
  },
  {
   "cell_type": "code",
   "execution_count": 18,
   "id": "d9472ecd",
   "metadata": {},
   "outputs": [],
   "source": [
    "i = 2\n",
    "L = 2 ** r[i]\n",
    "delta = 2 * x_max_values[i] / (L - 1)\n",
    "x_hat = sq_dec(sq_enc(data['speech8'], r[i], x_max_values[i], delta/2), r[i], x_max_values[i], delta/2)\n",
    "play_wav(x_hat, 8000)\n"
   ]
  },
  {
   "cell_type": "markdown",
   "id": "200ddb58",
   "metadata": {},
   "source": [
    "Using a midtread makes the speech more 'chopped'. Using a midrise introduces the typical noise into the signal. The midtread was for us more pleasant to listen to but the content is worse to understand."
   ]
  },
  {
   "cell_type": "markdown",
   "id": "0a261ae7",
   "metadata": {},
   "source": [
    "## Adaptive Open-Loop DPCM (13 pts)\n",
    "<img src=\"./openloopdcm.png\" alt=\"alt text\" width=\"800\"/>\n",
    "\n",
    "In this section we will study open-loop Differential Pulse Code Modulation (DPCM).\n",
    "Open loop DPCM can be viewed as pre-filtering, quantization, and post-filtering, see Figure 1 (the adaptation\n",
    "mechanism is not shown). \n",
    "It is called open loop because the quantizer is not part of the prediction loop.\n",
    "\n",
    "We will want to adapt both the LP coefficients and the energy in a forward fashion.\n",
    "See the vocoder section for hints on how to forward adapt those.\n",
    "In general the structure of open loop DPCM is similar to the vocoder structure with\n",
    "one important difference: vocoders create an artificial replica of the prediction\n",
    "error signal $d(n)$ (by estimating voiced/unvoiced, the pitch, energy), whereas\n",
    "open loop DPCM coders quantize each sample of the prediction error signal\n",
    "and thus try to preserve the original waveform. \n",
    "\n",
    "We recommend that you reuse as much as possible of the code from the vocoder."
   ]
  },
  {
   "cell_type": "markdown",
   "id": "8250ed91",
   "metadata": {},
   "source": [
    "#### Question 1 (4 pts)\n",
    "You are not given many guidelines here. Give it your best shot and make\n",
    "sure you can motivate your choice of for example\n",
    "- analysis frame length,\n",
    "- update length (to keep things simple make analysis and update lengths\n",
    "equal, i.e., no overlapping analysis frames),\n",
    "- window function (for the analysis of certain parameters),\n",
    "- number of bits to quantize the energy,\n",
    "- number of bits to quantize the residual,\n",
    "Use the VQ as before to quantize the LP parameters (thus, you need not\n",
    "decide prediction order!).\n",
    "\n",
    "Design the PCM quantizer for the prediction error d(n) according to\n",
    "$x_{max} = k \\sigma_d$ . \n",
    "Optimize k for $R = 3$ (R meaning the rate of the residual quantizer), by experimenting, so that it sounds good, i.e., do not optimize SNR theoretically."
   ]
  },
  {
   "cell_type": "code",
   "execution_count": 19,
   "id": "d00a88dd",
   "metadata": {},
   "outputs": [],
   "source": [
    "# what do we forward, what do we predict?\n",
    "\n",
    "# we predict the signal with LP and energy, compute the residual, quantize residual, energy, LP and use that for the synthesis\n",
    "\n",
    "def DPCM_analysis(x, alen, ulen):\n",
    "    N = len(x)\n",
    "    naf = (N-alen+ulen)//ulen\n",
    "    n1 = 0\n",
    "    x_reshaped = x.reshape(-1)\n",
    "    \n",
    "    # Initialization\n",
    "    A = np.zeros((naf, 10+1)) # M is the prediction order.\n",
    "    # M+1 allows space for the leading 1\n",
    "    x_hat=np.zeros((len(x), 1))\n",
    "    \n",
    "    \n",
    "    for n in range(naf):\n",
    "        # find frame\n",
    "        x_frame = x_reshaped[n1:n1+alen] * signal.windows.hann(alen)\n",
    "        \n",
    "        lags, r = xcorr(x_frame, x_frame, 10)\n",
    "        a_row = np.concatenate([np.ones((1)), solve_toeplitz(r[:-1], -r[1:])])\n",
    "        A[n,:] = a_row # Make sure the polynomial coefficients are in a row vector\n",
    "        # find x_hat\n",
    "        x_hat[n1:n1+alen, 0] = signal.lfilter(np.array([1]), A[n,:], x_frame).reshape(-1)\n",
    "        n1 += ulen\n",
    "       \n",
    "    res = x - x_hat\n",
    "        \n",
    "    return A, res\n",
    "\n",
    "\n",
    "alen = 128\n",
    "ulen = 128\n",
    "\n",
    "A, res = DPCM_analysis(data['speech8'], alen,ulen)\n",
    "play_wav(res,8000)\n",
    "\n",
    "\n",
    "### Quantization\n",
    "\n",
    "\n",
    "# LP Coefficients\n",
    "codeA = encodefilter(A)\n",
    "quant_A = decodefilter(codeA)\n",
    "\n",
    "# residual\n",
    "\n",
    "k = 0.8\n",
    "std_res = np.sqrt(np.var(res))\n",
    "x_max = k*std_res\n",
    "quant_res = sq_dec(sq_enc(res, 3, x_max, 0), 3, x_max, 0)\n"
   ]
  },
  {
   "cell_type": "code",
   "execution_count": 20,
   "id": "b4eb0c03",
   "metadata": {},
   "outputs": [],
   "source": [
    "play_wav(data['speech8'], 8000)"
   ]
  },
  {
   "cell_type": "code",
   "execution_count": 21,
   "id": "e80c1315",
   "metadata": {},
   "outputs": [],
   "source": [
    "play_wav(x_hat, 8000)"
   ]
  },
  {
   "cell_type": "code",
   "execution_count": 22,
   "id": "f58b564b",
   "metadata": {},
   "outputs": [],
   "source": [
    "play_wav(res, 8000)"
   ]
  },
  {
   "cell_type": "code",
   "execution_count": 23,
   "id": "c40b7610",
   "metadata": {},
   "outputs": [],
   "source": [
    "def DPCM_synthesis(A, res):\n",
    "    N = len(x)\n",
    "    naf = (N-alen+ulen)//ulen\n",
    "    n1 = 0\n",
    "    res_reshaped = res.reshape(-1)\n",
    "\n",
    "    \n",
    "    # Initialization\n",
    "    x_tilde=np.zeros((len(res), 1))\n",
    "    x_rec = np.zeros((len(res), 1))\n",
    "\n",
    "    for n in range(naf):\n",
    "        # find frame\n",
    "        res_frame = res_reshaped[n1:n1+alen] * signal.windows.hann(alen)\n",
    "        \n",
    "        # find x_tilde\n",
    "        x_rec[n1:n1+alen, 0] = signal.lfilter(np.array([1]), A[n,:], res_frame).reshape(-1)\n",
    "        n1 += ulen\n",
    "        \n",
    "    x_tilde = x_rec + res\n",
    "    return x_tilde\n",
    "\n",
    "x_est = DPCM_synthesis(quant_A, quant_res)"
   ]
  },
  {
   "cell_type": "code",
   "execution_count": 24,
   "id": "21fd745a",
   "metadata": {},
   "outputs": [],
   "source": [
    "play_wav(x_est, 8000)"
   ]
  },
  {
   "cell_type": "markdown",
   "id": "e655455a",
   "metadata": {},
   "source": [
    "#### Question 2 (1 pts)\n",
    "\n",
    "Run your system at R = 3. \n",
    "How would you characterize the reconstructed speech? What does the quantization error sound like?\n"
   ]
  },
  {
   "cell_type": "code",
   "execution_count": 25,
   "id": "7eec66ca",
   "metadata": {},
   "outputs": [],
   "source": [
    "error = data['speech8'] - x_est\n",
    "\n",
    "play_wav(error,8000)"
   ]
  },
  {
   "cell_type": "markdown",
   "id": "9e58282d",
   "metadata": {},
   "source": [
    "The reconstructed speech sounds noisier than the original but one can understand the speech.\n",
    "This is also true for the error. This makes sense, because we are using an open-loop system and we have noise shaping."
   ]
  },
  {
   "cell_type": "markdown",
   "id": "5fe3488d",
   "metadata": {},
   "source": [
    "#### Question 3 (2 pts)\n",
    "\n",
    "What shape does the quantization error spectrum have? \n",
    "Plot a DFT based spectrum of the error for a voiced frame. \n",
    "What does theory say?"
   ]
  },
  {
   "cell_type": "markdown",
   "id": "1a28eb70",
   "metadata": {},
   "source": [
    "The spectrum of the reconstruction error should have the same shape as the specturm of the input signal, because 1/(1-A(z)) is the synthesis filter that models the vocal tract. It is called noise shaping and only happens for the open loop DPCM. However, our example does not show that."
   ]
  },
  {
   "cell_type": "code",
   "execution_count": 26,
   "id": "c8c277ae",
   "metadata": {},
   "outputs": [
    {
     "name": "stderr",
     "output_type": "stream",
     "text": [
      "c:\\Users\\there\\anaconda3\\Lib\\site-packages\\matplotlib\\cbook\\__init__.py:1340: ComplexWarning: Casting complex values to real discards the imaginary part\n",
      "  return np.asarray(x, float)\n"
     ]
    },
    {
     "data": {
      "image/png": "[encoded data removed]",
      "text/plain": [
       "<Figure size 640x480 with 1 Axes>"
      ]
     },
     "metadata": {},
     "output_type": "display_data"
    },
    {
     "data": {
      "image/png": "[encoded data removed]",
      "text/plain": [
       "<Figure size 640x480 with 1 Axes>"
      ]
     },
     "metadata": {},
     "output_type": "display_data"
    }
   ],
   "source": [
    "from scipy.fft import fft\n",
    "def get_envelop(xf,M,N=1024,fs=44100):\n",
    "\n",
    "    lags, r = xcorr(xf, xf,M=M)\n",
    "\n",
    "    a=np.concatenate([np.ones(1), solve_toeplitz(r[:-1], -r[1:])]).reshape(-1,1)\n",
    "    e=(a.T @ r)[0]\n",
    "    w, h2=signal.freqz(1,a,N,whole=True,fs=fs)\n",
    "    \n",
    "    X = fft(xf)\n",
    "    fig,ax=plt.subplots(1,1)\n",
    "    \n",
    "    ax.plot(w[1:N//2+1],10*np.log10(np.abs(X[1:N//2+1])**2),label=\"$X(f)$\")\n",
    "    ax.plot(w[1:N//2+1],10*np.log10(e*np.abs(h2[1:N//2+1])**2),label=\"$Envelop$\")\n",
    "    ax.set_xlabel(\"Frequency (Hz)\")\n",
    "    ax.set_ylabel(\"Amplitude\")\n",
    "    ax.legend()\n",
    "    return fig,ax\n",
    "\n",
    "\n",
    "e = error[21*alen:22*alen].reshape(-1)\n",
    "x = data['speech8'][21*alen:22*alen].reshape(-1)\n",
    "\n",
    "fig,ax=get_envelop(fft(e),10,alen,8000)\n",
    "\n",
    "fig,ax=get_envelop(fft(x),10,alen,8000)"
   ]
  },
  {
   "cell_type": "markdown",
   "id": "f2e2c43e",
   "metadata": {},
   "source": [
    "#### Question 4 (2 pts)\n",
    "\n",
    "Measure the SNR of your system. \n",
    "Compare with the SNR of PCM at the same rate.\n",
    "Comments?"
   ]
  },
  {
   "cell_type": "code",
   "execution_count": 27,
   "id": "87ab27ff",
   "metadata": {},
   "outputs": [
    {
     "name": "stdout",
     "output_type": "stream",
     "text": [
      "-12.008822004545468\n"
     ]
    }
   ],
   "source": [
    "mse = np.mean((data['speech8']-x_est)**2)\n",
    "snr = 10*np.log10(std_signal**2/mse)\n",
    "print(snr)"
   ]
  },
  {
   "cell_type": "markdown",
   "id": "6c8fb23d",
   "metadata": {},
   "source": [
    "The SNR of -11.72 dB is way lower than the previous SNR or -2.67 dB. For the open loop there is no SNR improvement expected."
   ]
  },
  {
   "cell_type": "markdown",
   "id": "e8ea96b7",
   "metadata": {},
   "source": [
    "#### Question 5 (2 pts)\n",
    "\n",
    "What is the total rate of your coder in bits per sample? In bits per second?"
   ]
  },
  {
   "cell_type": "markdown",
   "id": "4f0890c6",
   "metadata": {},
   "source": [
    "We use 20 bits for the LP coefficents and 3 for the residual. That is a total of 23/128 bits/sample. With a sampling frequency of 8000 Hz that results in 23/128*8000 bits/s = 1.437 kbits/s"
   ]
  },
  {
   "cell_type": "markdown",
   "id": "a57afcd0",
   "metadata": {},
   "source": [
    "#### Question 6 (2 pts)\n",
    "\n",
    "Is it better to use the quantized LP coefficients in the encoder filter than to use the unquantized LP coefficients?"
   ]
  },
  {
   "cell_type": "markdown",
   "id": "39258fed",
   "metadata": {},
   "source": [
    "The output sounds better with unquantized LP coefficients, but of course that is not possible without extreme loss of efficiency."
   ]
  }
 ],
 "metadata": {
  "kernelspec": {
   "display_name": "base",
   "language": "python",
   "name": "python3"
  },
  "language_info": {
   "codemirror_mode": {
    "name": "ipython",
    "version": 3
   },
   "file_extension": ".py",
   "mimetype": "text/x-python",
   "name": "python",
   "nbconvert_exporter": "python",
   "pygments_lexer": "ipython3",
   "version": "3.11.5"
  }
 },
 "nbformat": 4,
 "nbformat_minor": 5
}
